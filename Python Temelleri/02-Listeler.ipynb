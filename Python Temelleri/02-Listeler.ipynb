{
 "cells": [
  {
   "cell_type": "code",
   "execution_count": 2,
   "id": "be91f89c-61be-4691-adba-41708048353b",
   "metadata": {},
   "outputs": [],
   "source": [
    "benimString = \"Elif Sara Han\""
   ]
  },
  {
   "cell_type": "code",
   "execution_count": 4,
   "id": "aa95698d-0ca8-47dd-ae19-e8bda09824c1",
   "metadata": {},
   "outputs": [],
   "source": [
    "# immutability & mutability"
   ]
  },
  {
   "cell_type": "code",
   "execution_count": 6,
   "id": "181aaf06-a804-4035-98dc-443fcf99ad10",
   "metadata": {},
   "outputs": [],
   "source": [
    "#benimString[0]= \"B\""
   ]
  },
  {
   "cell_type": "code",
   "execution_count": 8,
   "id": "a8fa39af-d6cf-4f17-9e2f-299dfc022a07",
   "metadata": {},
   "outputs": [],
   "source": [
    "benimListem = [10, 20, 30, 40]"
   ]
  },
  {
   "cell_type": "code",
   "execution_count": 10,
   "id": "60e57d69-ff78-48e8-832b-baecc77f16ac",
   "metadata": {},
   "outputs": [
    {
     "data": {
      "text/plain": [
       "list"
      ]
     },
     "execution_count": 10,
     "metadata": {},
     "output_type": "execute_result"
    }
   ],
   "source": [
    "type(benimListem)"
   ]
  },
  {
   "cell_type": "code",
   "execution_count": 12,
   "id": "a0e31b95-f960-4d32-855f-eb780a0bd6de",
   "metadata": {},
   "outputs": [
    {
     "data": {
      "text/plain": [
       "40"
      ]
     },
     "execution_count": 12,
     "metadata": {},
     "output_type": "execute_result"
    }
   ],
   "source": [
    "benimListem[3]"
   ]
  },
  {
   "cell_type": "code",
   "execution_count": 14,
   "id": "c1c00e16-dc70-4b55-91d7-6724fd9e09e7",
   "metadata": {},
   "outputs": [],
   "source": [
    "benimListem[0] = 100"
   ]
  },
  {
   "cell_type": "code",
   "execution_count": 16,
   "id": "12e4e521-acd3-4297-9e70-607909822f67",
   "metadata": {},
   "outputs": [
    {
     "data": {
      "text/plain": [
       "[100, 20, 30, 40]"
      ]
     },
     "execution_count": 16,
     "metadata": {},
     "output_type": "execute_result"
    }
   ],
   "source": [
    "benimListem"
   ]
  },
  {
   "cell_type": "code",
   "execution_count": 18,
   "id": "20f21189-aca9-41a0-bf31-ec3079f36bae",
   "metadata": {},
   "outputs": [],
   "source": [
    "benimListem.append(50)"
   ]
  },
  {
   "cell_type": "code",
   "execution_count": 20,
   "id": "9f419e8b-e062-4f74-9aa8-e41260a2b420",
   "metadata": {},
   "outputs": [
    {
     "data": {
      "text/plain": [
       "[100, 20, 30, 40, 50]"
      ]
     },
     "execution_count": 20,
     "metadata": {},
     "output_type": "execute_result"
    }
   ],
   "source": [
    "benimListem"
   ]
  },
  {
   "cell_type": "code",
   "execution_count": 22,
   "id": "b4acbc3e-9f40-4a52-80b6-ed03fea4387e",
   "metadata": {},
   "outputs": [
    {
     "data": {
      "text/plain": [
       "50"
      ]
     },
     "execution_count": 22,
     "metadata": {},
     "output_type": "execute_result"
    }
   ],
   "source": [
    "benimListem.pop()"
   ]
  },
  {
   "cell_type": "code",
   "execution_count": 24,
   "id": "9ae3ba7f-7c76-4a36-a575-aad5b456f534",
   "metadata": {},
   "outputs": [
    {
     "data": {
      "text/plain": [
       "[100, 20, 30, 40]"
      ]
     },
     "execution_count": 24,
     "metadata": {},
     "output_type": "execute_result"
    }
   ],
   "source": [
    "benimListem"
   ]
  },
  {
   "cell_type": "code",
   "execution_count": 26,
   "id": "0a098841-4e1c-4961-ae16-01b175f22e7c",
   "metadata": {},
   "outputs": [],
   "source": [
    "benimListem.remove(40)"
   ]
  },
  {
   "cell_type": "code",
   "execution_count": 28,
   "id": "8b5fdd46-f46f-4c26-a2cd-8ca577abe4ba",
   "metadata": {},
   "outputs": [
    {
     "data": {
      "text/plain": [
       "[100, 20, 30]"
      ]
     },
     "execution_count": 28,
     "metadata": {},
     "output_type": "execute_result"
    }
   ],
   "source": [
    "benimListem"
   ]
  },
  {
   "cell_type": "code",
   "execution_count": 30,
   "id": "163fdd72-1e54-4b9c-a8a4-5d68a1553a7d",
   "metadata": {},
   "outputs": [
    {
     "data": {
      "text/plain": [
       "1"
      ]
     },
     "execution_count": 30,
     "metadata": {},
     "output_type": "execute_result"
    }
   ],
   "source": [
    "benimListem.count(20)"
   ]
  },
  {
   "cell_type": "code",
   "execution_count": 32,
   "id": "183a5c19-c199-4181-873a-cad1c6d587f0",
   "metadata": {},
   "outputs": [],
   "source": [
    "benimListem.append(20)"
   ]
  },
  {
   "cell_type": "code",
   "execution_count": 34,
   "id": "221e2190-ca9d-4520-9eba-11def2486edb",
   "metadata": {},
   "outputs": [
    {
     "data": {
      "text/plain": [
       "2"
      ]
     },
     "execution_count": 34,
     "metadata": {},
     "output_type": "execute_result"
    }
   ],
   "source": [
    "benimListem.count(20)"
   ]
  },
  {
   "cell_type": "code",
   "execution_count": 36,
   "id": "373d3e3d-5ec8-4223-b251-85e5ec3055d2",
   "metadata": {},
   "outputs": [],
   "source": [
    "benimStringListem = [\"elif\" , \"ahmet\" , \"zeynep\"]"
   ]
  },
  {
   "cell_type": "code",
   "execution_count": 38,
   "id": "78df8b9a-8700-4c22-a542-f0a661381bb7",
   "metadata": {},
   "outputs": [],
   "source": [
    "benimDigerListem = [\"atıl\", \"yusuf\", \"mehmet\"]"
   ]
  },
  {
   "cell_type": "code",
   "execution_count": 42,
   "id": "ec129c76-b9d7-4366-8e17-4a7e5f6fe2ff",
   "metadata": {},
   "outputs": [],
   "source": [
    "benimToplamaListem = benimStringListem + benimDigerListem"
   ]
  },
  {
   "cell_type": "code",
   "execution_count": 44,
   "id": "0f6971c9-6366-4ddb-9bdf-33972d4510cb",
   "metadata": {},
   "outputs": [
    {
     "data": {
      "text/plain": [
       "['elif', 'ahmet', 'zeynep', 'atıl', 'yusuf', 'mehmet']"
      ]
     },
     "execution_count": 44,
     "metadata": {},
     "output_type": "execute_result"
    }
   ],
   "source": [
    "benimToplamaListem"
   ]
  },
  {
   "cell_type": "code",
   "execution_count": 48,
   "id": "770319b5-6b6d-4811-af10-524c76dd3d99",
   "metadata": {},
   "outputs": [
    {
     "data": {
      "text/plain": [
       "['elif',\n",
       " 'ahmet',\n",
       " 'zeynep',\n",
       " 'elif',\n",
       " 'ahmet',\n",
       " 'zeynep',\n",
       " 'elif',\n",
       " 'ahmet',\n",
       " 'zeynep',\n",
       " 'elif',\n",
       " 'ahmet',\n",
       " 'zeynep',\n",
       " 'elif',\n",
       " 'ahmet',\n",
       " 'zeynep']"
      ]
     },
     "execution_count": 48,
     "metadata": {},
     "output_type": "execute_result"
    }
   ],
   "source": [
    "benimStringListem * 5"
   ]
  },
  {
   "cell_type": "code",
   "execution_count": 50,
   "id": "80894667-5945-459f-82c9-8b55813a34b8",
   "metadata": {},
   "outputs": [
    {
     "data": {
      "text/plain": [
       "['elif', 'ahmet', 'zeynep', 'atıl', 'yusuf', 'mehmet']"
      ]
     },
     "execution_count": 50,
     "metadata": {},
     "output_type": "execute_result"
    }
   ],
   "source": [
    "benimToplamaListem"
   ]
  },
  {
   "cell_type": "code",
   "execution_count": 52,
   "id": "fa0c0fa2-ca7c-402b-82e0-b1b2fcf37af4",
   "metadata": {},
   "outputs": [],
   "source": [
    "benimToplamaListem.reverse()"
   ]
  },
  {
   "cell_type": "code",
   "execution_count": 54,
   "id": "4c30c60f-f320-45c5-8492-904f60f29caa",
   "metadata": {},
   "outputs": [
    {
     "data": {
      "text/plain": [
       "['mehmet', 'yusuf', 'atıl', 'zeynep', 'ahmet', 'elif']"
      ]
     },
     "execution_count": 54,
     "metadata": {},
     "output_type": "execute_result"
    }
   ],
   "source": [
    "benimToplamaListem"
   ]
  },
  {
   "cell_type": "code",
   "execution_count": 56,
   "id": "19ded75e-2c20-490c-a95a-978b2a674ba3",
   "metadata": {},
   "outputs": [],
   "source": [
    "karisikListe = [1,2,3.5, \"elif\",9]"
   ]
  },
  {
   "cell_type": "code",
   "execution_count": 58,
   "id": "89fc1fc9-b6d7-450a-bc88-abdf680cd4ab",
   "metadata": {},
   "outputs": [
    {
     "data": {
      "text/plain": [
       "list"
      ]
     },
     "execution_count": 58,
     "metadata": {},
     "output_type": "execute_result"
    }
   ],
   "source": [
    "type(karisikListe)"
   ]
  },
  {
   "cell_type": "code",
   "execution_count": 60,
   "id": "0f4843f2-1700-43ce-9eaa-dbfbbac1d7d4",
   "metadata": {},
   "outputs": [
    {
     "data": {
      "text/plain": [
       "'elif'"
      ]
     },
     "execution_count": 60,
     "metadata": {},
     "output_type": "execute_result"
    }
   ],
   "source": [
    "sonucum = karisikListe[3]\n",
    "karisikListe[3]"
   ]
  },
  {
   "cell_type": "code",
   "execution_count": 62,
   "id": "36e7ffe7-6a15-4747-8f18-b7098f5efe38",
   "metadata": {},
   "outputs": [
    {
     "data": {
      "text/plain": [
       "str"
      ]
     },
     "execution_count": 62,
     "metadata": {},
     "output_type": "execute_result"
    }
   ],
   "source": [
    "type(sonucum)"
   ]
  },
  {
   "cell_type": "code",
   "execution_count": 64,
   "id": "d5887f03-4782-4edc-90f6-c66c21d2e541",
   "metadata": {},
   "outputs": [],
   "source": [
    "nestedList = [1,5,\"elif\",4,[6,\"z\"]]"
   ]
  },
  {
   "cell_type": "code",
   "execution_count": 66,
   "id": "dba61ecf-70c4-43f8-b151-2032a7e55129",
   "metadata": {},
   "outputs": [
    {
     "data": {
      "text/plain": [
       "list"
      ]
     },
     "execution_count": 66,
     "metadata": {},
     "output_type": "execute_result"
    }
   ],
   "source": [
    "type(nestedList[4])"
   ]
  },
  {
   "cell_type": "code",
   "execution_count": 70,
   "id": "56bbe8f4-e7c0-444a-a761-65015418c4aa",
   "metadata": {},
   "outputs": [],
   "source": [
    "zDegiskenimiz = nestedList[4][1]"
   ]
  },
  {
   "cell_type": "code",
   "execution_count": 72,
   "id": "f54cf425-76fc-4fd8-bec0-2eb81680cf36",
   "metadata": {},
   "outputs": [
    {
     "data": {
      "text/plain": [
       "'z'"
      ]
     },
     "execution_count": 72,
     "metadata": {},
     "output_type": "execute_result"
    }
   ],
   "source": [
    "zDegiskenimiz"
   ]
  },
  {
   "cell_type": "code",
   "execution_count": 74,
   "id": "1f017328-ed32-4a92-9afd-34fc00c322f9",
   "metadata": {},
   "outputs": [],
   "source": [
    "karmasikListe = [[1,2,3,[\"a\",\"b\"],50],40,20,[\"z\",5.5],[3,[\"a\"]]]"
   ]
  },
  {
   "cell_type": "code",
   "execution_count": 78,
   "id": "d0061a95-5b6f-4af4-b16c-298e305a75a3",
   "metadata": {},
   "outputs": [],
   "source": [
    "bDegiskenimiz = karmasikListe[0][3][1]"
   ]
  },
  {
   "cell_type": "code",
   "execution_count": 80,
   "id": "d7a8e54b-59a7-4433-930f-d9b4d88db386",
   "metadata": {},
   "outputs": [
    {
     "data": {
      "text/plain": [
       "'b'"
      ]
     },
     "execution_count": 80,
     "metadata": {},
     "output_type": "execute_result"
    }
   ],
   "source": [
    "bDegiskenimiz"
   ]
  },
  {
   "cell_type": "code",
   "execution_count": 82,
   "id": "929cd0ad-39bb-4107-916a-1fba6b4ba763",
   "metadata": {},
   "outputs": [
    {
     "data": {
      "text/plain": [
       "[1, 5, 'elif', 4, [6, 'z']]"
      ]
     },
     "execution_count": 82,
     "metadata": {},
     "output_type": "execute_result"
    }
   ],
   "source": [
    "nestedList"
   ]
  },
  {
   "cell_type": "code",
   "execution_count": 84,
   "id": "81154471-22da-413e-acdf-046ec7309cea",
   "metadata": {},
   "outputs": [
    {
     "data": {
      "text/plain": [
       "[1, 5]"
      ]
     },
     "execution_count": 84,
     "metadata": {},
     "output_type": "execute_result"
    }
   ],
   "source": [
    "nestedList[:2]"
   ]
  },
  {
   "cell_type": "code",
   "execution_count": null,
   "id": "e38ac63c-49e3-4394-85c3-ebdda4086bd5",
   "metadata": {},
   "outputs": [],
   "source": []
  }
 ],
 "metadata": {
  "kernelspec": {
   "display_name": "Python 3 (ipykernel)",
   "language": "python",
   "name": "python3"
  },
  "language_info": {
   "codemirror_mode": {
    "name": "ipython",
    "version": 3
   },
   "file_extension": ".py",
   "mimetype": "text/x-python",
   "name": "python",
   "nbconvert_exporter": "python",
   "pygments_lexer": "ipython3",
   "version": "3.12.7"
  }
 },
 "nbformat": 4,
 "nbformat_minor": 5
}
