{
 "cells": [
  {
   "cell_type": "code",
   "execution_count": 2,
   "id": "c812f785-56e3-424a-86ab-321c33a84e33",
   "metadata": {},
   "outputs": [],
   "source": [
    "benimBoolean = True"
   ]
  },
  {
   "cell_type": "code",
   "execution_count": 4,
   "id": "9995c5ef-55d1-43a4-8008-ced55e66f801",
   "metadata": {},
   "outputs": [
    {
     "data": {
      "text/plain": [
       "True"
      ]
     },
     "execution_count": 4,
     "metadata": {},
     "output_type": "execute_result"
    }
   ],
   "source": [
    "benimBoolean"
   ]
  },
  {
   "cell_type": "code",
   "execution_count": 6,
   "id": "0f896c76-8751-4090-aac0-57a5b875461e",
   "metadata": {},
   "outputs": [
    {
     "data": {
      "text/plain": [
       "bool"
      ]
     },
     "execution_count": 6,
     "metadata": {},
     "output_type": "execute_result"
    }
   ],
   "source": [
    "type(benimBoolean)"
   ]
  },
  {
   "cell_type": "code",
   "execution_count": 8,
   "id": "2dc223f6-69a7-46ce-8bb9-646af74ecaee",
   "metadata": {},
   "outputs": [],
   "source": [
    "benimBoolean = False"
   ]
  },
  {
   "cell_type": "code",
   "execution_count": 10,
   "id": "5436d939-d724-4840-86ee-fc7f560cf2d0",
   "metadata": {},
   "outputs": [
    {
     "data": {
      "text/plain": [
       "True"
      ]
     },
     "execution_count": 10,
     "metadata": {},
     "output_type": "execute_result"
    }
   ],
   "source": [
    " 10>5"
   ]
  },
  {
   "cell_type": "code",
   "execution_count": 12,
   "id": "ddd07f3b-a589-45f3-839a-3d7436c3550f",
   "metadata": {},
   "outputs": [
    {
     "data": {
      "text/plain": [
       "False"
      ]
     },
     "execution_count": 12,
     "metadata": {},
     "output_type": "execute_result"
    }
   ],
   "source": [
    "10<5"
   ]
  },
  {
   "cell_type": "code",
   "execution_count": 14,
   "id": "69a4d51a-9c7e-4b5a-850e-f2f1b5eb215f",
   "metadata": {},
   "outputs": [],
   "source": [
    "listem = [5000, 10000, 3000, 1000, 2000, 4000]"
   ]
  },
  {
   "cell_type": "code",
   "execution_count": 16,
   "id": "6f89356d-6a07-40f0-821d-1ed89501535c",
   "metadata": {},
   "outputs": [
    {
     "data": {
      "text/plain": [
       "6"
      ]
     },
     "execution_count": 16,
     "metadata": {},
     "output_type": "execute_result"
    }
   ],
   "source": [
    "len(listem)"
   ]
  },
  {
   "cell_type": "code",
   "execution_count": 18,
   "id": "3ae92dbd-0c67-4d25-86f6-af6d5d599ee1",
   "metadata": {},
   "outputs": [
    {
     "data": {
      "text/plain": [
       "25000"
      ]
     },
     "execution_count": 18,
     "metadata": {},
     "output_type": "execute_result"
    }
   ],
   "source": [
    "sum(listem)"
   ]
  },
  {
   "cell_type": "code",
   "execution_count": 20,
   "id": "25b1456c-20d5-4885-be39-5560e3b6fc94",
   "metadata": {},
   "outputs": [],
   "source": [
    "ortalama = sum(listem) /len(listem)"
   ]
  },
  {
   "cell_type": "code",
   "execution_count": 22,
   "id": "99402107-5897-4aec-b1e7-6921eeba818b",
   "metadata": {},
   "outputs": [
    {
     "data": {
      "text/plain": [
       "4166.666666666667"
      ]
     },
     "execution_count": 22,
     "metadata": {},
     "output_type": "execute_result"
    }
   ],
   "source": [
    "ortalama"
   ]
  },
  {
   "cell_type": "code",
   "execution_count": 24,
   "id": "e8c9ebbe-e750-42b1-adb7-118f745b0ce3",
   "metadata": {},
   "outputs": [
    {
     "data": {
      "text/plain": [
       "False"
      ]
     },
     "execution_count": 24,
     "metadata": {},
     "output_type": "execute_result"
    }
   ],
   "source": [
    "listem[3] > ortalama"
   ]
  },
  {
   "cell_type": "code",
   "execution_count": 26,
   "id": "f9f4df6a-792c-4932-9820-f8232249996e",
   "metadata": {},
   "outputs": [
    {
     "name": "stdin",
     "output_type": "stream",
     "text": [
      "maai bilgisini giriniz:  6000\n"
     ]
    }
   ],
   "source": [
    "kullaniciMaas = input(\"maai bilgisini giriniz: \")"
   ]
  },
  {
   "cell_type": "code",
   "execution_count": 30,
   "id": "388fc911-b00a-47a3-99bf-3a08a190e921",
   "metadata": {},
   "outputs": [],
   "source": [
    "kullaniciMaasInt = int(kullaniciMaas)"
   ]
  },
  {
   "cell_type": "code",
   "execution_count": 32,
   "id": "cf8b0fab-b259-494f-936c-53a3eb915d9e",
   "metadata": {},
   "outputs": [
    {
     "data": {
      "text/plain": [
       "True"
      ]
     },
     "execution_count": 32,
     "metadata": {},
     "output_type": "execute_result"
    }
   ],
   "source": [
    "kullaniciMaasInt > ortalama"
   ]
  },
  {
   "cell_type": "code",
   "execution_count": null,
   "id": "06ae4ce8-3716-4a92-b628-78bbadda3695",
   "metadata": {},
   "outputs": [],
   "source": []
  }
 ],
 "metadata": {
  "kernelspec": {
   "display_name": "Python 3 (ipykernel)",
   "language": "python",
   "name": "python3"
  },
  "language_info": {
   "codemirror_mode": {
    "name": "ipython",
    "version": 3
   },
   "file_extension": ".py",
   "mimetype": "text/x-python",
   "name": "python",
   "nbconvert_exporter": "python",
   "pygments_lexer": "ipython3",
   "version": "3.12.7"
  }
 },
 "nbformat": 4,
 "nbformat_minor": 5
}
