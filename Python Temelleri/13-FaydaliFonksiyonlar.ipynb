{
 "cells": [
  {
   "cell_type": "code",
   "execution_count": 4,
   "id": "5a75f6ca-d1ce-400d-8940-26e6ae77c4d0",
   "metadata": {},
   "outputs": [],
   "source": [
    "def bolmeIslemi(numara):\n",
    "    return numara/2"
   ]
  },
  {
   "cell_type": "code",
   "execution_count": 6,
   "id": "ec367c15-b9ae-4d17-a190-262877c501ce",
   "metadata": {},
   "outputs": [
    {
     "data": {
      "text/plain": [
       "10.0"
      ]
     },
     "execution_count": 6,
     "metadata": {},
     "output_type": "execute_result"
    }
   ],
   "source": [
    "bolmeIslemi(20)"
   ]
  },
  {
   "cell_type": "code",
   "execution_count": 8,
   "id": "e9ff8c85-d735-4147-a067-fb5e5604c33a",
   "metadata": {},
   "outputs": [],
   "source": [
    "benimListem = [1,2,3,4,5,6,7,8,9,10]"
   ]
  },
  {
   "cell_type": "code",
   "execution_count": 10,
   "id": "a77356bd-e7ed-4389-9e28-cd6c752cbfe3",
   "metadata": {},
   "outputs": [],
   "source": [
    "yeniListe = []\n",
    "for eleman in benimListem:\n",
    "    yeniListe.append(bolmeIslemi(eleman))"
   ]
  },
  {
   "cell_type": "markdown",
   "id": "08043eb5-a154-4b93-a28f-931f8b2d6c16",
   "metadata": {},
   "source": [
    "## map"
   ]
  },
  {
   "cell_type": "code",
   "execution_count": 13,
   "id": "58b5f664-4acb-4c07-8c41-11ada713523c",
   "metadata": {},
   "outputs": [
    {
     "data": {
      "text/plain": [
       "[0.5, 1.0, 1.5, 2.0, 2.5, 3.0, 3.5, 4.0, 4.5, 5.0]"
      ]
     },
     "execution_count": 13,
     "metadata": {},
     "output_type": "execute_result"
    }
   ],
   "source": [
    "list(map(bolmeIslemi, benimListem))"
   ]
  },
  {
   "cell_type": "code",
   "execution_count": 19,
   "id": "030d9db2-b82d-4014-b343-fa4b79a0b8da",
   "metadata": {},
   "outputs": [],
   "source": [
    "def kontrolFonksiyonu(string):\n",
    "    return \"e\" in string"
   ]
  },
  {
   "cell_type": "code",
   "execution_count": 21,
   "id": "fa4397e9-0055-4574-bc08-e397a52e753a",
   "metadata": {},
   "outputs": [
    {
     "data": {
      "text/plain": [
       "True"
      ]
     },
     "execution_count": 21,
     "metadata": {},
     "output_type": "execute_result"
    }
   ],
   "source": [
    "kontrolFonksiyonu(\"elif\")"
   ]
  },
  {
   "cell_type": "code",
   "execution_count": 23,
   "id": "a4c3a60c-f5f6-4608-b96f-ace8616da795",
   "metadata": {},
   "outputs": [
    {
     "data": {
      "text/plain": [
       "False"
      ]
     },
     "execution_count": 23,
     "metadata": {},
     "output_type": "execute_result"
    }
   ],
   "source": [
    "kontrolFonksiyonu(\"atıl\")"
   ]
  },
  {
   "cell_type": "code",
   "execution_count": 25,
   "id": "f73c5ce6-2ad8-4d01-a0d1-72e90137c2ac",
   "metadata": {},
   "outputs": [],
   "source": [
    "stringListesi = [\"elif\",\"zeynep\",\"rümeysa\",\"atıl\",\"sara\",\"atlas\"]"
   ]
  },
  {
   "cell_type": "code",
   "execution_count": 29,
   "id": "e02cd6d0-a03a-4f48-8b76-97ccc2abcb9a",
   "metadata": {},
   "outputs": [],
   "source": [
    "sonucListesi=list(map(kontrolFonksiyonu,stringListesi))"
   ]
  },
  {
   "cell_type": "code",
   "execution_count": 31,
   "id": "814952c7-ea95-4c00-b959-25406b381875",
   "metadata": {},
   "outputs": [
    {
     "data": {
      "text/plain": [
       "3"
      ]
     },
     "execution_count": 31,
     "metadata": {},
     "output_type": "execute_result"
    }
   ],
   "source": [
    "sonucListesi.count(False)"
   ]
  },
  {
   "cell_type": "markdown",
   "id": "a9886183-11cb-47f2-b8c8-757e9f9a5ea1",
   "metadata": {},
   "source": [
    "## filter"
   ]
  },
  {
   "cell_type": "code",
   "execution_count": 34,
   "id": "a62878c6-623b-4a5f-9744-5b8bb94afb2a",
   "metadata": {},
   "outputs": [
    {
     "data": {
      "text/plain": [
       "['elif', 'zeynep', 'rümeysa']"
      ]
     },
     "execution_count": 34,
     "metadata": {},
     "output_type": "execute_result"
    }
   ],
   "source": [
    "list(filter(kontrolFonksiyonu, stringListesi))"
   ]
  },
  {
   "cell_type": "markdown",
   "id": "dbb5f41a-fb43-49d4-829d-86c9e2a780ce",
   "metadata": {},
   "source": [
    "## lambda"
   ]
  },
  {
   "cell_type": "code",
   "execution_count": 37,
   "id": "b0f3a481-14dc-4368-bc05-58602258071d",
   "metadata": {},
   "outputs": [],
   "source": [
    "carpma = lambda numara : numara * 3"
   ]
  },
  {
   "cell_type": "code",
   "execution_count": 39,
   "id": "ed9e436d-c520-4f61-9bae-ed6bc2b9c1e3",
   "metadata": {},
   "outputs": [
    {
     "data": {
      "text/plain": [
       "30"
      ]
     },
     "execution_count": 39,
     "metadata": {},
     "output_type": "execute_result"
    }
   ],
   "source": [
    "carpma(10)"
   ]
  },
  {
   "cell_type": "code",
   "execution_count": 41,
   "id": "88d13407-d838-4696-a93c-6970649879e6",
   "metadata": {},
   "outputs": [],
   "source": [
    "ornekListesi = [10,20,30]"
   ]
  },
  {
   "cell_type": "code",
   "execution_count": 43,
   "id": "077b7aaa-1fd1-4ed2-b89a-1e64920d1d41",
   "metadata": {},
   "outputs": [
    {
     "data": {
      "text/plain": [
       "[40, 80, 120]"
      ]
     },
     "execution_count": 43,
     "metadata": {},
     "output_type": "execute_result"
    }
   ],
   "source": [
    "list(map(lambda numara : numara * 4, ornekListesi))"
   ]
  },
  {
   "cell_type": "code",
   "execution_count": null,
   "id": "5fde79c4-b3a4-416b-801a-3c4371c423a1",
   "metadata": {},
   "outputs": [],
   "source": []
  }
 ],
 "metadata": {
  "kernelspec": {
   "display_name": "Python 3 (ipykernel)",
   "language": "python",
   "name": "python3"
  },
  "language_info": {
   "codemirror_mode": {
    "name": "ipython",
    "version": 3
   },
   "file_extension": ".py",
   "mimetype": "text/x-python",
   "name": "python",
   "nbconvert_exporter": "python",
   "pygments_lexer": "ipython3",
   "version": "3.12.7"
  }
 },
 "nbformat": 4,
 "nbformat_minor": 5
}
