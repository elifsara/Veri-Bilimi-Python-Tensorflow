{
 "cells": [
  {
   "cell_type": "code",
   "execution_count": 6,
   "id": "e34b184a-9fe5-47c9-9259-851e6547b07d",
   "metadata": {},
   "outputs": [],
   "source": [
    "benimAdim = \"Elif Sara Han\""
   ]
  },
  {
   "cell_type": "code",
   "execution_count": 8,
   "id": "7de26515-9c9c-4069-9088-2789bd561190",
   "metadata": {},
   "outputs": [
    {
     "data": {
      "text/plain": [
       "'ELIF SARA HAN'"
      ]
     },
     "execution_count": 8,
     "metadata": {},
     "output_type": "execute_result"
    }
   ],
   "source": [
    "benimAdim.upper()"
   ]
  },
  {
   "cell_type": "code",
   "execution_count": 10,
   "id": "9435fabd-48d4-44a5-8c13-9995c81ecc1a",
   "metadata": {},
   "outputs": [
    {
     "data": {
      "text/plain": [
       "'Elif Sara Han'"
      ]
     },
     "execution_count": 10,
     "metadata": {},
     "output_type": "execute_result"
    }
   ],
   "source": [
    "benimAdim"
   ]
  },
  {
   "cell_type": "code",
   "execution_count": 12,
   "id": "b785dfb7-ebdb-4915-9d4d-fbae7e7b49b2",
   "metadata": {},
   "outputs": [],
   "source": [
    "benimAdimBuyukHarfli = benimAdim.upper()"
   ]
  },
  {
   "cell_type": "code",
   "execution_count": 14,
   "id": "05af67d3-75ac-4dde-a224-7d215d2ffaa2",
   "metadata": {},
   "outputs": [
    {
     "data": {
      "text/plain": [
       "'ELIF SARA HAN'"
      ]
     },
     "execution_count": 14,
     "metadata": {},
     "output_type": "execute_result"
    }
   ],
   "source": [
    "benimAdimBuyukHarfli"
   ]
  },
  {
   "cell_type": "code",
   "execution_count": 16,
   "id": "76438c90-cbb7-40be-a642-c06f4bc2bd8f",
   "metadata": {},
   "outputs": [
    {
     "data": {
      "text/plain": [
       "'Elif Sara Han'"
      ]
     },
     "execution_count": 16,
     "metadata": {},
     "output_type": "execute_result"
    }
   ],
   "source": [
    "benimAdim"
   ]
  },
  {
   "cell_type": "code",
   "execution_count": 18,
   "id": "3247421b-1419-436a-b9cd-74297a9a3e5c",
   "metadata": {},
   "outputs": [
    {
     "name": "stdout",
     "output_type": "stream",
     "text": [
      "Help on built-in function upper:\n",
      "\n",
      "upper() method of builtins.str instance\n",
      "    Return a copy of the string converted to uppercase.\n",
      "\n"
     ]
    }
   ],
   "source": [
    "help(benimAdim.upper)"
   ]
  },
  {
   "cell_type": "code",
   "execution_count": 24,
   "id": "1437f5b5-4fe6-4078-9bc4-30a44a1fde7c",
   "metadata": {},
   "outputs": [],
   "source": [
    "def ilkFonksiyon():\n",
    "    print(\"ilk fonksiyonum\")"
   ]
  },
  {
   "cell_type": "code",
   "execution_count": 26,
   "id": "0fbf641b-8cc7-4d6f-bdfb-0cc69157f7b4",
   "metadata": {},
   "outputs": [
    {
     "name": "stdout",
     "output_type": "stream",
     "text": [
      "ilk fonksiyonum\n"
     ]
    }
   ],
   "source": [
    "ilkFonksiyon()"
   ]
  },
  {
   "cell_type": "code",
   "execution_count": 28,
   "id": "6a1753b3-441a-41f0-ab3b-b74abd3c3828",
   "metadata": {},
   "outputs": [
    {
     "name": "stdout",
     "output_type": "stream",
     "text": [
      "ilk fonksiyonum\n"
     ]
    }
   ],
   "source": [
    "ilkFonksiyon()"
   ]
  },
  {
   "cell_type": "markdown",
   "id": "e083c313-dc3d-4752-ab8d-2e56aea95d10",
   "metadata": {},
   "source": [
    "## input & return"
   ]
  },
  {
   "cell_type": "code",
   "execution_count": 34,
   "id": "3e63ffd3-1da0-4b88-bf1e-e88db4510487",
   "metadata": {},
   "outputs": [],
   "source": [
    "def merhabaDunya(yazdirilacakIsim):\n",
    "    print(\"merhaba\")\n",
    "    print(yazdirilacakIsim)"
   ]
  },
  {
   "cell_type": "code",
   "execution_count": 36,
   "id": "42a52c70-59a0-49e7-b6d3-b919b6d1dedb",
   "metadata": {},
   "outputs": [
    {
     "name": "stdout",
     "output_type": "stream",
     "text": [
      "merhaba\n",
      "elif\n"
     ]
    }
   ],
   "source": [
    "merhabaDunya(\"elif\")"
   ]
  },
  {
   "cell_type": "code",
   "execution_count": 38,
   "id": "33b73cb2-012f-482f-acae-35a8bc7b21ed",
   "metadata": {},
   "outputs": [
    {
     "name": "stdout",
     "output_type": "stream",
     "text": [
      "merhaba\n",
      "python\n"
     ]
    }
   ],
   "source": [
    "merhabaDunya(\"python\")"
   ]
  },
  {
   "cell_type": "code",
   "execution_count": 40,
   "id": "cfec55a7-8fd1-4985-97d6-f7b536ec8bab",
   "metadata": {},
   "outputs": [],
   "source": [
    "def merhaba(isim = \"atıl\"):\n",
    "    print(\"merhaba\")\n",
    "    print(isim)"
   ]
  },
  {
   "cell_type": "code",
   "execution_count": 42,
   "id": "041bfbda-2f04-498b-a35a-f5918e7e9109",
   "metadata": {},
   "outputs": [
    {
     "name": "stdout",
     "output_type": "stream",
     "text": [
      "merhaba\n",
      "atıl\n"
     ]
    }
   ],
   "source": [
    "merhaba()"
   ]
  },
  {
   "cell_type": "code",
   "execution_count": 44,
   "id": "9b03b2a5-f205-410d-834d-75b0bd0176c9",
   "metadata": {},
   "outputs": [
    {
     "name": "stdout",
     "output_type": "stream",
     "text": [
      "merhaba\n",
      "python\n"
     ]
    }
   ],
   "source": [
    "merhaba(\"python\")"
   ]
  },
  {
   "cell_type": "code",
   "execution_count": 46,
   "id": "beac1c27-5300-4e40-885c-04afd48f9fbb",
   "metadata": {},
   "outputs": [],
   "source": [
    "def toplama(numara1, numara2):\n",
    "    sonuc = numara1 + numara2\n",
    "    print(sonuc)"
   ]
  },
  {
   "cell_type": "code",
   "execution_count": 48,
   "id": "4572b06a-dc07-444c-a736-dba1b5c00421",
   "metadata": {},
   "outputs": [
    {
     "name": "stdout",
     "output_type": "stream",
     "text": [
      "30\n"
     ]
    }
   ],
   "source": [
    "toplama(10,20)"
   ]
  },
  {
   "cell_type": "code",
   "execution_count": 50,
   "id": "c905d87a-b83c-45d5-81f6-99b2cda90a18",
   "metadata": {},
   "outputs": [
    {
     "name": "stdout",
     "output_type": "stream",
     "text": [
      "150\n"
     ]
    }
   ],
   "source": [
    "toplama(-200,350)"
   ]
  },
  {
   "cell_type": "code",
   "execution_count": 56,
   "id": "d4e7a1e1-2dda-4f41-9ac5-44cf781eafc3",
   "metadata": {},
   "outputs": [],
   "source": [
    "def superToplama(num1, num2, num3):\n",
    "    print(num1 + num2 +num3)"
   ]
  },
  {
   "cell_type": "code",
   "execution_count": 58,
   "id": "f4c78e7f-c7b6-471c-b0d8-bca2e838d555",
   "metadata": {},
   "outputs": [
    {
     "name": "stdout",
     "output_type": "stream",
     "text": [
      "60\n"
     ]
    }
   ],
   "source": [
    "superToplama(10,20,30)"
   ]
  },
  {
   "cell_type": "code",
   "execution_count": 62,
   "id": "f63490ad-dd71-4932-ab59-046fc9b2dd9b",
   "metadata": {},
   "outputs": [
    {
     "name": "stdout",
     "output_type": "stream",
     "text": [
      "30\n"
     ]
    }
   ],
   "source": [
    "yeniDegisken = toplama(10,20)"
   ]
  },
  {
   "cell_type": "code",
   "execution_count": 64,
   "id": "f6c274ec-83f4-48bc-a91b-028dd4ebe439",
   "metadata": {},
   "outputs": [
    {
     "data": {
      "text/plain": [
       "NoneType"
      ]
     },
     "execution_count": 64,
     "metadata": {},
     "output_type": "execute_result"
    }
   ],
   "source": [
    "type(yeniDegisken)"
   ]
  },
  {
   "cell_type": "code",
   "execution_count": 66,
   "id": "992fe741-0b7a-48f5-b8e4-23295d822784",
   "metadata": {},
   "outputs": [],
   "source": [
    "def dondurmeliToplama(num1,num2):\n",
    "    return num1 + num2"
   ]
  },
  {
   "cell_type": "code",
   "execution_count": 70,
   "id": "8cd6473b-4cd4-4178-827b-66ab1943418e",
   "metadata": {},
   "outputs": [],
   "source": [
    "yeniSonuc = dondurmeliToplama(10,20)"
   ]
  },
  {
   "cell_type": "code",
   "execution_count": 72,
   "id": "21357f0c-c22a-4d1d-a348-9bfa327155b4",
   "metadata": {},
   "outputs": [
    {
     "data": {
      "text/plain": [
       "int"
      ]
     },
     "execution_count": 72,
     "metadata": {},
     "output_type": "execute_result"
    }
   ],
   "source": [
    "type(yeniSonuc)"
   ]
  },
  {
   "cell_type": "code",
   "execution_count": 74,
   "id": "4f49dcf5-94ea-46df-af7b-1e475a61e7df",
   "metadata": {},
   "outputs": [],
   "source": [
    "def kontrolFonksiyon(s):\n",
    "    if s == \"elif\":\n",
    "        print(\"verdiğiniz string elif\")\n",
    "    else :\n",
    "        print(\"verdiğiniz string başka bir şey\")"
   ]
  },
  {
   "cell_type": "code",
   "execution_count": 76,
   "id": "2a9d562e-3a09-44af-8e32-ecc0cf2f88e8",
   "metadata": {},
   "outputs": [
    {
     "name": "stdout",
     "output_type": "stream",
     "text": [
      "verdiğiniz string elif\n"
     ]
    }
   ],
   "source": [
    "kontrolFonksiyon(\"elif\")"
   ]
  },
  {
   "cell_type": "code",
   "execution_count": 78,
   "id": "646a229e-3a9e-4148-9288-71d287d72176",
   "metadata": {},
   "outputs": [
    {
     "name": "stdout",
     "output_type": "stream",
     "text": [
      "verdiğiniz string başka bir şey\n"
     ]
    }
   ],
   "source": [
    "kontrolFonksiyon(\"python\")"
   ]
  },
  {
   "cell_type": "markdown",
   "id": "f0cca91d-cfb7-4559-a2e2-4c12bbd5dec0",
   "metadata": {},
   "source": [
    "## args & kwargs"
   ]
  },
  {
   "cell_type": "code",
   "execution_count": 85,
   "id": "2cca0938-9f38-47f7-80d3-2f43ba2d5ca3",
   "metadata": {},
   "outputs": [],
   "source": [
    "def yeniToplama(*args):\n",
    "    return sum(args)"
   ]
  },
  {
   "cell_type": "code",
   "execution_count": 87,
   "id": "75c22592-ec8d-4ae4-ad2c-e9d06b55109a",
   "metadata": {},
   "outputs": [
    {
     "data": {
      "text/plain": [
       "210"
      ]
     },
     "execution_count": 87,
     "metadata": {},
     "output_type": "execute_result"
    }
   ],
   "source": [
    "yeniToplama(10,20,30,40,50,60)"
   ]
  },
  {
   "cell_type": "code",
   "execution_count": 89,
   "id": "eae042e7-078c-4800-840b-6bb539bafc2e",
   "metadata": {},
   "outputs": [
    {
     "data": {
      "text/plain": [
       "30"
      ]
     },
     "execution_count": 89,
     "metadata": {},
     "output_type": "execute_result"
    }
   ],
   "source": [
    "yeniToplama(10,20)"
   ]
  },
  {
   "cell_type": "code",
   "execution_count": 95,
   "id": "4fc26ed7-c6c8-4fd9-aa1e-103088e3fef4",
   "metadata": {},
   "outputs": [],
   "source": [
    "def benimFonksiyonum(*args):\n",
    "    return args"
   ]
  },
  {
   "cell_type": "code",
   "execution_count": 97,
   "id": "437a00f2-f341-4434-b2e0-4f9136d004da",
   "metadata": {},
   "outputs": [
    {
     "data": {
      "text/plain": [
       "tuple"
      ]
     },
     "execution_count": 97,
     "metadata": {},
     "output_type": "execute_result"
    }
   ],
   "source": [
    "type(benimFonksiyonum(20,30,40))"
   ]
  },
  {
   "cell_type": "code",
   "execution_count": 107,
   "id": "2ec559af-fb3d-4d33-a5e1-09d859193fbd",
   "metadata": {},
   "outputs": [],
   "source": [
    "def ornekFonksiyon(**kwargs):\n",
    "    return kwargs"
   ]
  },
  {
   "cell_type": "code",
   "execution_count": 109,
   "id": "c907a944-be17-4be6-8695-18c8d3ccbda8",
   "metadata": {},
   "outputs": [
    {
     "data": {
      "text/plain": [
       "dict"
      ]
     },
     "execution_count": 109,
     "metadata": {},
     "output_type": "execute_result"
    }
   ],
   "source": [
    "type(ornekFonksiyon(muz=100, elma = 200, ananas=300))"
   ]
  },
  {
   "cell_type": "code",
   "execution_count": 115,
   "id": "172c4b7a-6bd5-42bf-b1fb-78f436cd5f2c",
   "metadata": {},
   "outputs": [],
   "source": [
    "def keyWordKontrolu(**kwargs):\n",
    "    if \"elif\" in kwargs:\n",
    "        print(\"elif var\")\n",
    "    else:\n",
    "        print(\"elif yok\")"
   ]
  },
  {
   "cell_type": "code",
   "execution_count": 117,
   "id": "8e19edf1-4815-44ca-ba76-7baed7219c24",
   "metadata": {},
   "outputs": [
    {
     "name": "stdout",
     "output_type": "stream",
     "text": [
      "elif yok\n"
     ]
    }
   ],
   "source": [
    "keyWordKontrolu(ahmet=70, zeynep=50, mehmet = 40)"
   ]
  },
  {
   "cell_type": "code",
   "execution_count": null,
   "id": "43797f81-43a5-425a-842f-e57dc736fd0a",
   "metadata": {},
   "outputs": [],
   "source": []
  }
 ],
 "metadata": {
  "kernelspec": {
   "display_name": "Python 3 (ipykernel)",
   "language": "python",
   "name": "python3"
  },
  "language_info": {
   "codemirror_mode": {
    "name": "ipython",
    "version": 3
   },
   "file_extension": ".py",
   "mimetype": "text/x-python",
   "name": "python",
   "nbconvert_exporter": "python",
   "pygments_lexer": "ipython3",
   "version": "3.12.7"
  }
 },
 "nbformat": 4,
 "nbformat_minor": 5
}
