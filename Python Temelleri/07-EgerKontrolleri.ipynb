{
 "cells": [
  {
   "cell_type": "code",
   "execution_count": 2,
   "id": "52c440a6-7f75-402b-b215-523d5dab0080",
   "metadata": {},
   "outputs": [
    {
     "data": {
      "text/plain": [
       "True"
      ]
     },
     "execution_count": 2,
     "metadata": {},
     "output_type": "execute_result"
    }
   ],
   "source": [
    "3 > 1"
   ]
  },
  {
   "cell_type": "code",
   "execution_count": 6,
   "id": "6fb0efe6-d458-443b-b7ef-5019722ea2a0",
   "metadata": {},
   "outputs": [
    {
     "name": "stdout",
     "output_type": "stream",
     "text": [
      "if koşulunun dışına çıktık\n"
     ]
    }
   ],
   "source": [
    "if 3 > 4:\n",
    "    print(\"elif sara\")\n",
    "    print(\"if koşulu sağlandı\")\n",
    "print(\"if koşulunun dışına çıktık\")"
   ]
  },
  {
   "cell_type": "code",
   "execution_count": 20,
   "id": "dda5bddb-e144-4e3b-bbc3-7a6efe35c1d0",
   "metadata": {},
   "outputs": [],
   "source": [
    "x = 4"
   ]
  },
  {
   "cell_type": "code",
   "execution_count": 22,
   "id": "7d265362-15bd-41e7-9563-4542386cc4bd",
   "metadata": {},
   "outputs": [],
   "source": [
    "y = 4"
   ]
  },
  {
   "cell_type": "code",
   "execution_count": 24,
   "id": "f522506c-be6d-4986-94cb-dee03e58eaf8",
   "metadata": {},
   "outputs": [
    {
     "name": "stdout",
     "output_type": "stream",
     "text": [
      "y ve x birbirine eşitmiş\n"
     ]
    }
   ],
   "source": [
    "if x > y:\n",
    "    print(\"x, y'den daha büyükmüş\")\n",
    "elif y > x:\n",
    "    print(\"y, x'den daha büyükmüş\")\n",
    "else:\n",
    "    print(\"y ve x birbirine eşitmiş\")\n",
    "    "
   ]
  },
  {
   "cell_type": "code",
   "execution_count": 40,
   "id": "b5cd4bce-e15d-4be5-83ab-0ef7821c920d",
   "metadata": {},
   "outputs": [
    {
     "name": "stdin",
     "output_type": "stream",
     "text": [
      "Sıper kahraman seçiniz:  Aquaman\n"
     ]
    }
   ],
   "source": [
    "benimKahramanim = input(\"Sıper kahraman seçiniz: \")"
   ]
  },
  {
   "cell_type": "code",
   "execution_count": 42,
   "id": "35e4ca54-d10f-47af-aca7-a9d90bf67a33",
   "metadata": {},
   "outputs": [
    {
     "name": "stdout",
     "output_type": "stream",
     "text": [
      "Bu kim gerçekten bilmiyoruz\n"
     ]
    }
   ],
   "source": [
    "if benimKahramanim == \"Batman\":\n",
    "    print(\"Batman'i seçtiniz tebrikler\")\n",
    "elif benimKahramanim == \"Superman\":\n",
    "    print(\"Keşke Batman'i seçseydiniz\")\n",
    "elif benimKahramanim == \"Ironman\":\n",
    "    print(\"Iron man kimdir?\")\n",
    "else:\n",
    "    print(\"Bu kim gerçekten bilmiyoruz\")"
   ]
  },
  {
   "cell_type": "code",
   "execution_count": 48,
   "id": "404cb53d-0216-4d21-a14b-d07d98f19a6b",
   "metadata": {},
   "outputs": [],
   "source": [
    "a = 10\n",
    "b = 20\n",
    "c = 20"
   ]
  },
  {
   "cell_type": "code",
   "execution_count": 50,
   "id": "fbdad98b-902a-49c9-bd14-c6ab503afabd",
   "metadata": {},
   "outputs": [
    {
     "name": "stdout",
     "output_type": "stream",
     "text": [
      "bu koşullar tutmadı\n"
     ]
    }
   ],
   "source": [
    "if a > b and b>c:\n",
    "    print(\"a, b'den büyük VE b de c'den büyük\")\n",
    "elif a < b and b < c:\n",
    "    print(\"a, b'den küçük VE b de c'den küçük\")\n",
    "else:\n",
    "    print(\"bu koşullar tutmadı\")"
   ]
  },
  {
   "cell_type": "code",
   "execution_count": 54,
   "id": "1c4128e5-d08d-4d37-9135-63f7aa85c8a1",
   "metadata": {},
   "outputs": [],
   "source": [
    "m = 10\n",
    "k = 4\n",
    "l = 5"
   ]
  },
  {
   "cell_type": "code",
   "execution_count": 62,
   "id": "2d11b79a-e21b-47ad-bdd2-80dcdc3a1b86",
   "metadata": {},
   "outputs": [
    {
     "name": "stdout",
     "output_type": "stream",
     "text": [
      "bu çalıştırılacak mı?\n"
     ]
    }
   ],
   "source": [
    "if m > l or k > l:\n",
    "    print(\"bu çalıştırılacak mı?\")"
   ]
  },
  {
   "cell_type": "code",
   "execution_count": 72,
   "id": "5bce9c53-40b7-4593-9378-d1873aafc68e",
   "metadata": {},
   "outputs": [],
   "source": [
    "karakterCanli = False"
   ]
  },
  {
   "cell_type": "code",
   "execution_count": 74,
   "id": "7eed6323-664a-437e-b4ff-d7c2dbad4f67",
   "metadata": {},
   "outputs": [
    {
     "name": "stdout",
     "output_type": "stream",
     "text": [
      "oyun karakteriniz yaşamıyor\n"
     ]
    }
   ],
   "source": [
    "if karakterCanli == True:\n",
    "    print (\"oyun karakteriniz yaşıyor\")\n",
    "else :\n",
    "    print (\"oyun karakteriniz yaşamıyor\")"
   ]
  },
  {
   "cell_type": "code",
   "execution_count": 76,
   "id": "1db1f0ea-e3d2-4757-950d-b47313d7e924",
   "metadata": {},
   "outputs": [
    {
     "name": "stdout",
     "output_type": "stream",
     "text": [
      "oyun karakteriniz yaşamıyor\n"
     ]
    }
   ],
   "source": [
    "if karakterCanli:\n",
    "    print (\"oyun karakteriniz yaşıyor\")\n",
    "else :\n",
    "    print (\"oyun karakteriniz yaşamıyor\")"
   ]
  },
  {
   "cell_type": "code",
   "execution_count": 78,
   "id": "7eb0d709-23f0-4c16-be7c-921b6b8e12c3",
   "metadata": {},
   "outputs": [
    {
     "name": "stdout",
     "output_type": "stream",
     "text": [
      "karakter canlı değil\n"
     ]
    }
   ],
   "source": [
    "if not karakterCanli:\n",
    "    print(\"karakter canlı değil\")"
   ]
  },
  {
   "cell_type": "code",
   "execution_count": 80,
   "id": "8536c3a3-71dd-4c21-87e3-95d6809ea99b",
   "metadata": {},
   "outputs": [],
   "source": [
    "benimString = \"Elif Sara\""
   ]
  },
  {
   "cell_type": "code",
   "execution_count": 82,
   "id": "e09c4234-4e20-439f-a444-0b728f5d9984",
   "metadata": {},
   "outputs": [
    {
     "name": "stdout",
     "output_type": "stream",
     "text": [
      "eşit değilmiş\n"
     ]
    }
   ],
   "source": [
    "if benimString == \"elif sara\" :\n",
    "    print(\"eşitmiş\")\n",
    "else :\n",
    "    print(\"eşit değilmiş\")"
   ]
  },
  {
   "cell_type": "code",
   "execution_count": 84,
   "id": "a2fc2806-d9c7-4ba9-811f-07d218379056",
   "metadata": {},
   "outputs": [
    {
     "name": "stdout",
     "output_type": "stream",
     "text": [
      "varmış\n"
     ]
    }
   ],
   "source": [
    "if \"Sara\" in benimString:\n",
    "    print(\"varmış\")\n",
    "else:\n",
    "     print(\"yokmuş\")"
   ]
  },
  {
   "cell_type": "code",
   "execution_count": 86,
   "id": "773d45ae-7f04-48b8-8ec7-f9f9ff1ea539",
   "metadata": {},
   "outputs": [],
   "source": [
    "benimListem=[10,20,30,40,50]"
   ]
  },
  {
   "cell_type": "code",
   "execution_count": 88,
   "id": "1b7442ff-22ee-45d7-8dbf-06468d15b2b9",
   "metadata": {},
   "outputs": [],
   "source": [
    "if 60 in benimListem:\n",
    "    print(\"evet var\")"
   ]
  },
  {
   "cell_type": "code",
   "execution_count": 92,
   "id": "9b8fad3c-d96d-4bc3-8e0f-990cbca05825",
   "metadata": {},
   "outputs": [],
   "source": [
    "benimSozluk = {\"muz\":100, \"elma\" : 150, \"karpuz\": 500}"
   ]
  },
  {
   "cell_type": "code",
   "execution_count": 94,
   "id": "62dfa773-ce81-48cd-be3e-765d81b21ec1",
   "metadata": {},
   "outputs": [
    {
     "name": "stdout",
     "output_type": "stream",
     "text": [
      "varmış\n"
     ]
    }
   ],
   "source": [
    "if \"muz\" in benimSozluk.keys():\n",
    "    print(\"varmış\")"
   ]
  },
  {
   "cell_type": "code",
   "execution_count": 96,
   "id": "514f1e69-f516-41f0-ad16-6467e50889a5",
   "metadata": {},
   "outputs": [
    {
     "name": "stdout",
     "output_type": "stream",
     "text": [
      "evet\n"
     ]
    }
   ],
   "source": [
    "if 500 in benimSozluk.values():\n",
    "    print(\"evet\")"
   ]
  },
  {
   "cell_type": "code",
   "execution_count": null,
   "id": "a5f72f6d-4d6f-44a2-bf55-bacf812dcf5a",
   "metadata": {},
   "outputs": [],
   "source": []
  }
 ],
 "metadata": {
  "kernelspec": {
   "display_name": "Python 3 (ipykernel)",
   "language": "python",
   "name": "python3"
  },
  "language_info": {
   "codemirror_mode": {
    "name": "ipython",
    "version": 3
   },
   "file_extension": ".py",
   "mimetype": "text/x-python",
   "name": "python",
   "nbconvert_exporter": "python",
   "pygments_lexer": "ipython3",
   "version": "3.12.7"
  }
 },
 "nbformat": 4,
 "nbformat_minor": 5
}
