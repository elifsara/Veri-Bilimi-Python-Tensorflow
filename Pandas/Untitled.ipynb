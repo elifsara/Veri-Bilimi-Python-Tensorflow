{
 "cells": [
  {
   "cell_type": "code",
   "execution_count": null,
   "id": "593a3d8c-ab7c-41aa-ba00-550100e4d1fe",
   "metadata": {},
   "outputs": [],
   "source": []
  }
 ],
 "metadata": {
  "kernelspec": {
   "display_name": "",
   "name": ""
  },
  "language_info": {
   "name": ""
  }
 },
 "nbformat": 4,
 "nbformat_minor": 5
}
