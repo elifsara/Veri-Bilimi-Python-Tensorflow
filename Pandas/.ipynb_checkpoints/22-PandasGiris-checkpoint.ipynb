{
 "cells": [
  {
   "cell_type": "code",
   "execution_count": 2,
   "id": "1ea14e31-ea6b-4942-a106-7a39cbb757a6",
   "metadata": {},
   "outputs": [],
   "source": [
    "import numpy as np\n",
    "import pandas as pd"
   ]
  },
  {
   "cell_type": "markdown",
   "id": "b9d9b277-75ca-4abc-868b-44abc8d1fdfa",
   "metadata": {},
   "source": [
    "## Series / Seriler"
   ]
  },
  {
   "cell_type": "code",
   "execution_count": 7,
   "id": "90c36460-a4f8-46f4-80a7-fb1ca7eeb00d",
   "metadata": {},
   "outputs": [],
   "source": [
    "benimSozlugum = {\"Elif\" : 26, \"zeynep \": 40, \"mehmet\" : 30}"
   ]
  },
  {
   "cell_type": "code",
   "execution_count": 9,
   "id": "b3074d79-39e9-486a-a657-2fc768b5137a",
   "metadata": {},
   "outputs": [
    {
     "data": {
      "text/plain": [
       "Elif       26\n",
       "zeynep     40\n",
       "mehmet     30\n",
       "dtype: int64"
      ]
     },
     "execution_count": 9,
     "metadata": {},
     "output_type": "execute_result"
    }
   ],
   "source": [
    "pd.Series(benimSozlugum)"
   ]
  },
  {
   "cell_type": "code",
   "execution_count": 17,
   "id": "58c8a548-6615-44f5-9c41-46376470254a",
   "metadata": {},
   "outputs": [],
   "source": [
    "benimYaslarim =[50,40,30]\n",
    "benimIsimlerim = [\"Elif\",\"Atil\",\"Zeynep\"]"
   ]
  },
  {
   "cell_type": "code",
   "execution_count": 19,
   "id": "9e481c04-8fa6-4536-b482-99f94b833ce7",
   "metadata": {},
   "outputs": [
    {
     "data": {
      "text/plain": [
       "0    50\n",
       "1    40\n",
       "2    30\n",
       "dtype: int64"
      ]
     },
     "execution_count": 19,
     "metadata": {},
     "output_type": "execute_result"
    }
   ],
   "source": [
    "pd.Series(benimYaslarim)"
   ]
  },
  {
   "cell_type": "code",
   "execution_count": 23,
   "id": "88a5ca97-d09e-4395-b27a-2992d5ef70f9",
   "metadata": {},
   "outputs": [
    {
     "data": {
      "text/plain": [
       "Elif      50\n",
       "Atil      40\n",
       "Zeynep    30\n",
       "dtype: int64"
      ]
     },
     "execution_count": 23,
     "metadata": {},
     "output_type": "execute_result"
    }
   ],
   "source": [
    "pd.Series(benimYaslarim, benimIsimlerim)"
   ]
  },
  {
   "cell_type": "code",
   "execution_count": 25,
   "id": "8245e1d9-9284-4bf4-a95f-c4662f6035a3",
   "metadata": {},
   "outputs": [
    {
     "data": {
      "text/plain": [
       "Elif      50\n",
       "Atil      40\n",
       "Zeynep    30\n",
       "dtype: int64"
      ]
     },
     "execution_count": 25,
     "metadata": {},
     "output_type": "execute_result"
    }
   ],
   "source": [
    "pd.Series(data=benimYaslarim, index = benimIsimlerim)"
   ]
  },
  {
   "cell_type": "code",
   "execution_count": 27,
   "id": "33fa434c-4e13-405b-a17b-585829c2a2df",
   "metadata": {},
   "outputs": [],
   "source": [
    "numpyDizisi = np.array([50,40,30])"
   ]
  },
  {
   "cell_type": "code",
   "execution_count": 29,
   "id": "36851dfe-3ca4-4b8b-8b95-b9f3b6baf5f9",
   "metadata": {},
   "outputs": [
    {
     "data": {
      "text/plain": [
       "0    50\n",
       "1    40\n",
       "2    30\n",
       "dtype: int64"
      ]
     },
     "execution_count": 29,
     "metadata": {},
     "output_type": "execute_result"
    }
   ],
   "source": [
    "pd.Series(numpyDizisi)"
   ]
  },
  {
   "cell_type": "code",
   "execution_count": 31,
   "id": "a3c003a4-6151-419a-b796-ff5e38186263",
   "metadata": {},
   "outputs": [
    {
     "data": {
      "text/plain": [
       "Elif      50\n",
       "Atil      40\n",
       "Zeynep    30\n",
       "dtype: int64"
      ]
     },
     "execution_count": 31,
     "metadata": {},
     "output_type": "execute_result"
    }
   ],
   "source": [
    "pd.Series(numpyDizisi, benimIsimlerim)"
   ]
  },
  {
   "cell_type": "code",
   "execution_count": 33,
   "id": "d3a7f22e-57fd-4bf6-a516-40238684a4b1",
   "metadata": {},
   "outputs": [
    {
     "data": {
      "text/plain": [
       "1     Elif\n",
       "2     Atıl\n",
       "3    Atlas\n",
       "dtype: object"
      ]
     },
     "execution_count": 33,
     "metadata": {},
     "output_type": "execute_result"
    }
   ],
   "source": [
    "pd.Series([\"Elif\",\"Atıl\",\"Atlas\"],[1,2,3])"
   ]
  },
  {
   "cell_type": "code",
   "execution_count": 35,
   "id": "a1c9a327-2330-4ea8-a314-d71356d40a14",
   "metadata": {},
   "outputs": [],
   "source": [
    "yarismaSonucu1 = pd.Series([10,5,1] ,[\"Elif\",\"Atil\",\"Atlas\"])"
   ]
  },
  {
   "cell_type": "code",
   "execution_count": 37,
   "id": "6cc6f32f-84fe-4c6d-87d8-6616b139473f",
   "metadata": {},
   "outputs": [
    {
     "data": {
      "text/plain": [
       "Elif     10\n",
       "Atil      5\n",
       "Atlas     1\n",
       "dtype: int64"
      ]
     },
     "execution_count": 37,
     "metadata": {},
     "output_type": "execute_result"
    }
   ],
   "source": [
    "yarismaSonucu1"
   ]
  },
  {
   "cell_type": "code",
   "execution_count": 39,
   "id": "4aa07f16-9bf8-4522-967b-3b8935fd7ade",
   "metadata": {},
   "outputs": [],
   "source": [
    "yarismaSonucu2 = pd.Series([20,10,8],[\"Elif\",\"Atil\",\"Atlas\"])"
   ]
  },
  {
   "cell_type": "code",
   "execution_count": 41,
   "id": "e0bae3e9-b795-4df7-9eb4-7ef44a7cb4f0",
   "metadata": {},
   "outputs": [
    {
     "data": {
      "text/plain": [
       "Elif     20\n",
       "Atil     10\n",
       "Atlas     8\n",
       "dtype: int64"
      ]
     },
     "execution_count": 41,
     "metadata": {},
     "output_type": "execute_result"
    }
   ],
   "source": [
    "yarismaSonucu2"
   ]
  },
  {
   "cell_type": "code",
   "execution_count": 43,
   "id": "e5423812-4436-4057-ab26-7a7e8b6860b7",
   "metadata": {},
   "outputs": [
    {
     "data": {
      "text/plain": [
       "np.int64(8)"
      ]
     },
     "execution_count": 43,
     "metadata": {},
     "output_type": "execute_result"
    }
   ],
   "source": [
    "yarismaSonucu2[\"Atlas\"]"
   ]
  },
  {
   "cell_type": "code",
   "execution_count": 45,
   "id": "62c493cb-ead8-49e6-a15e-87f813417e23",
   "metadata": {},
   "outputs": [],
   "source": [
    "sonSonuc = yarismaSonucu1 + yarismaSonucu2"
   ]
  },
  {
   "cell_type": "code",
   "execution_count": 47,
   "id": "2a227eed-70b2-4e2f-a19b-396f39f2bbd9",
   "metadata": {},
   "outputs": [
    {
     "data": {
      "text/plain": [
       "Elif     30\n",
       "Atil     15\n",
       "Atlas     9\n",
       "dtype: int64"
      ]
     },
     "execution_count": 47,
     "metadata": {},
     "output_type": "execute_result"
    }
   ],
   "source": [
    "sonSonuc"
   ]
  },
  {
   "cell_type": "code",
   "execution_count": 49,
   "id": "70748f5c-8f82-4dab-8549-65c005591bc5",
   "metadata": {},
   "outputs": [],
   "source": [
    "farkliSeries = pd.Series([20,30,40,50],[\"a\",\"b\",\"c\",\"d\"])"
   ]
  },
  {
   "cell_type": "code",
   "execution_count": 51,
   "id": "964804db-dca9-4d81-88ed-2e498a5c9fda",
   "metadata": {},
   "outputs": [],
   "source": [
    "farkliSeries2 = pd.Series([10,5,3,1],[\"a\",\"c\",\"f\",\"g\"])"
   ]
  },
  {
   "cell_type": "code",
   "execution_count": 53,
   "id": "67fc0ca8-a435-4cb9-9894-d37c60233eed",
   "metadata": {},
   "outputs": [
    {
     "data": {
      "text/plain": [
       "a    20\n",
       "b    30\n",
       "c    40\n",
       "d    50\n",
       "dtype: int64"
      ]
     },
     "execution_count": 53,
     "metadata": {},
     "output_type": "execute_result"
    }
   ],
   "source": [
    "farkliSeries"
   ]
  },
  {
   "cell_type": "code",
   "execution_count": 55,
   "id": "1533fc66-6236-46d1-b587-a60668e1d9e7",
   "metadata": {},
   "outputs": [
    {
     "data": {
      "text/plain": [
       "a    10\n",
       "c     5\n",
       "f     3\n",
       "g     1\n",
       "dtype: int64"
      ]
     },
     "execution_count": 55,
     "metadata": {},
     "output_type": "execute_result"
    }
   ],
   "source": [
    "farkliSeries2"
   ]
  },
  {
   "cell_type": "code",
   "execution_count": 57,
   "id": "9a221ade-862f-4425-8994-bf701cc2a959",
   "metadata": {},
   "outputs": [
    {
     "data": {
      "text/plain": [
       "a    30.0\n",
       "b     NaN\n",
       "c    45.0\n",
       "d     NaN\n",
       "f     NaN\n",
       "g     NaN\n",
       "dtype: float64"
      ]
     },
     "execution_count": 57,
     "metadata": {},
     "output_type": "execute_result"
    }
   ],
   "source": [
    "farkliSeries + farkliSeries2"
   ]
  }
 ],
 "metadata": {
  "kernelspec": {
   "display_name": "Python 3 (ipykernel)",
   "language": "python",
   "name": "python3"
  },
  "language_info": {
   "codemirror_mode": {
    "name": "ipython",
    "version": 3
   },
   "file_extension": ".py",
   "mimetype": "text/x-python",
   "name": "python",
   "nbconvert_exporter": "python",
   "pygments_lexer": "ipython3",
   "version": "3.12.7"
  }
 },
 "nbformat": 4,
 "nbformat_minor": 5
}
