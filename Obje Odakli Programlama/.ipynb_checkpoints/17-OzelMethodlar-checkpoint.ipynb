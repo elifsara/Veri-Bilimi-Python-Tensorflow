{
 "cells": [
  {
   "cell_type": "code",
   "execution_count": 1,
   "id": "34bd2a28-01cd-4f82-929f-8b932972157d",
   "metadata": {},
   "outputs": [],
   "source": [
    "class Meyve():\n",
    "\n",
    "    def __init__(self,isim,kalori):\n",
    "        self.isim = isim\n",
    "        self.kalori = kalori\n",
    "\n",
    "    def __str__(self):\n",
    "        return f\"{self.isim} şu kadar kaloriye sahiptir: {self.kalori} \" \n",
    "\n",
    "    def __len__(self):\n",
    "        return self.kalori"
   ]
  },
  {
   "cell_type": "code",
   "execution_count": 2,
   "id": "b955273e-9022-4cc0-9d47-3480846aa054",
   "metadata": {},
   "outputs": [],
   "source": [
    "muz = Meyve(\"muz\",150)"
   ]
  },
  {
   "cell_type": "code",
   "execution_count": 3,
   "id": "5f273555-3156-4448-afea-7dda96342af3",
   "metadata": {},
   "outputs": [
    {
     "data": {
      "text/plain": [
       "150"
      ]
     },
     "execution_count": 3,
     "metadata": {},
     "output_type": "execute_result"
    }
   ],
   "source": [
    "muz.kalori"
   ]
  },
  {
   "cell_type": "code",
   "execution_count": 4,
   "id": "53e638d8-d957-4eb1-b62a-f06b8ae90343",
   "metadata": {},
   "outputs": [
    {
     "name": "stdout",
     "output_type": "stream",
     "text": [
      "muz şu kadar kaloriye sahiptir: 150 \n"
     ]
    }
   ],
   "source": [
    "print(muz)"
   ]
  },
  {
   "cell_type": "code",
   "execution_count": 5,
   "id": "86a23942-f426-4de5-b527-456c752c61b2",
   "metadata": {},
   "outputs": [],
   "source": [
    "benimListem = [1,2,3,\"a\",4.5]"
   ]
  },
  {
   "cell_type": "code",
   "execution_count": 6,
   "id": "5b0f5171-da54-41f7-8b4c-3fdb31dcdb5a",
   "metadata": {},
   "outputs": [
    {
     "name": "stdout",
     "output_type": "stream",
     "text": [
      "[1, 2, 3, 'a', 4.5]\n"
     ]
    }
   ],
   "source": [
    "print(benimListem)"
   ]
  },
  {
   "cell_type": "code",
   "execution_count": 7,
   "id": "cc25e97d-1058-4449-a03a-fe0fbe396d81",
   "metadata": {},
   "outputs": [
    {
     "data": {
      "text/plain": [
       "5"
      ]
     },
     "execution_count": 7,
     "metadata": {},
     "output_type": "execute_result"
    }
   ],
   "source": [
    "len(benimListem)"
   ]
  },
  {
   "cell_type": "code",
   "execution_count": 8,
   "id": "b8227b7d-1e2d-4b29-939b-d56f86377822",
   "metadata": {},
   "outputs": [
    {
     "data": {
      "text/plain": [
       "150"
      ]
     },
     "execution_count": 8,
     "metadata": {},
     "output_type": "execute_result"
    }
   ],
   "source": [
    "len(muz)"
   ]
  },
  {
   "cell_type": "code",
   "execution_count": 9,
   "id": "2ba071e2-6136-4d96-ac89-678db3d56dfa",
   "metadata": {},
   "outputs": [],
   "source": [
    "elma = Meyve(\"Elma\",200)"
   ]
  },
  {
   "cell_type": "code",
   "execution_count": 10,
   "id": "26aa1f81-f3b1-4e48-9161-ab33e0b227e5",
   "metadata": {},
   "outputs": [
    {
     "data": {
      "text/plain": [
       "200"
      ]
     },
     "execution_count": 10,
     "metadata": {},
     "output_type": "execute_result"
    }
   ],
   "source": [
    "len(elma)"
   ]
  },
  {
   "cell_type": "code",
   "execution_count": 11,
   "id": "4891c4aa-e2be-4655-b0eb-1227104e690e",
   "metadata": {},
   "outputs": [
    {
     "name": "stdout",
     "output_type": "stream",
     "text": [
      "Elma şu kadar kaloriye sahiptir: 200 \n"
     ]
    }
   ],
   "source": [
    "print(elma)"
   ]
  }
 ],
 "metadata": {
  "kernelspec": {
   "display_name": "Python 3 (ipykernel)",
   "language": "python",
   "name": "python3"
  },
  "language_info": {
   "codemirror_mode": {
    "name": "ipython",
    "version": 3
   },
   "file_extension": ".py",
   "mimetype": "text/x-python",
   "name": "python",
   "nbconvert_exporter": "python",
   "pygments_lexer": "ipython3",
   "version": "3.12.7"
  }
 },
 "nbformat": 4,
 "nbformat_minor": 5
}
