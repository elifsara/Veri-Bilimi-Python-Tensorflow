{
 "cells": [
  {
   "cell_type": "code",
   "execution_count": 2,
   "id": "cb3b17fc-d994-44f7-b617-7a71ed48ee09",
   "metadata": {},
   "outputs": [],
   "source": [
    "benimListem = list()"
   ]
  },
  {
   "cell_type": "code",
   "execution_count": 4,
   "id": "b022741f-86b6-4a2b-84b3-0ae89d222cb6",
   "metadata": {},
   "outputs": [
    {
     "data": {
      "text/plain": [
       "list"
      ]
     },
     "execution_count": 4,
     "metadata": {},
     "output_type": "execute_result"
    }
   ],
   "source": [
    "type(benimListem)"
   ]
  },
  {
   "cell_type": "markdown",
   "id": "de4afcee-26f0-4a26-8d5a-ecd07a382d92",
   "metadata": {},
   "source": [
    "## instance & attribute"
   ]
  },
  {
   "cell_type": "code",
   "execution_count": 15,
   "id": "c91237c6-ffc4-473a-8a4d-962151aeba34",
   "metadata": {},
   "outputs": [],
   "source": [
    "superKahramanAdi = \"Superman\"\n",
    "superKahramanYasi = 30\n",
    "superKahramanMeslegi = \"Gazeteci\""
   ]
  },
  {
   "cell_type": "code",
   "execution_count": 17,
   "id": "a5cad9e8-4a95-4859-926f-1427875bf406",
   "metadata": {},
   "outputs": [],
   "source": [
    "ilinciSuperKahramanAdi = \"Batman\""
   ]
  },
  {
   "cell_type": "code",
   "execution_count": 51,
   "id": "e7746c16-455c-40bd-be68-f6d4d4f72c95",
   "metadata": {},
   "outputs": [],
   "source": [
    "class SuperKahraman():\n",
    "\n",
    "    ozelGuc = \"Gorunmezlik\"\n",
    "    \n",
    "    def __init__(self,isimInput,yasInput,meslekInput):\n",
    "        print(\"init çağırıldı\")\n",
    "        self.isim = isimInput\n",
    "        self.yas = yasInput\n",
    "        self.meslek = meslekInput\n",
    "\n",
    "\n",
    "    def ornekMethod(self):\n",
    "        print(f\"ben  superkahramanım ve mesleğim: {self.meslek} \")"
   ]
  },
  {
   "cell_type": "code",
   "execution_count": 53,
   "id": "65cbd5ec-3314-40a3-a02e-ff8396bb4496",
   "metadata": {},
   "outputs": [
    {
     "name": "stdout",
     "output_type": "stream",
     "text": [
      "init çağırıldı\n"
     ]
    }
   ],
   "source": [
    "superman = SuperKahraman(\"Superman\",30,\"Gazeteci\")"
   ]
  },
  {
   "cell_type": "code",
   "execution_count": 55,
   "id": "d7518d16-68e3-4b36-b540-a739fc8f962c",
   "metadata": {},
   "outputs": [],
   "source": [
    "superman.isim = \"Clark Kent\""
   ]
  },
  {
   "cell_type": "code",
   "execution_count": 57,
   "id": "436b34be-3ee6-4274-8c2f-e36ce1280dd3",
   "metadata": {},
   "outputs": [
    {
     "data": {
      "text/plain": [
       "'Clark Kent'"
      ]
     },
     "execution_count": 57,
     "metadata": {},
     "output_type": "execute_result"
    }
   ],
   "source": [
    "superman.isim"
   ]
  },
  {
   "cell_type": "code",
   "execution_count": 59,
   "id": "90a6a8c4-0a01-45df-b955-3fa92b96a0ba",
   "metadata": {},
   "outputs": [
    {
     "data": {
      "text/plain": [
       "30"
      ]
     },
     "execution_count": 59,
     "metadata": {},
     "output_type": "execute_result"
    }
   ],
   "source": [
    "superman.yas"
   ]
  },
  {
   "cell_type": "code",
   "execution_count": 61,
   "id": "56f22176-580c-4fe7-bf3b-3430f18ea3b7",
   "metadata": {},
   "outputs": [
    {
     "data": {
      "text/plain": [
       "'Gorunmezlik'"
      ]
     },
     "execution_count": 61,
     "metadata": {},
     "output_type": "execute_result"
    }
   ],
   "source": [
    "superman.ozelGuc"
   ]
  },
  {
   "cell_type": "code",
   "execution_count": 64,
   "id": "83f50761-99ff-4686-aea2-ac2f992fa165",
   "metadata": {},
   "outputs": [
    {
     "name": "stdout",
     "output_type": "stream",
     "text": [
      "ben  superkahramanım ve mesleğim: Gazeteci \n"
     ]
    }
   ],
   "source": [
    "superman.ornekMethod()"
   ]
  },
  {
   "cell_type": "code",
   "execution_count": 102,
   "id": "ff36664e-7b52-493c-a821-a97efe62db98",
   "metadata": {},
   "outputs": [],
   "source": [
    "class Kopek():\n",
    "    \n",
    "    yilCarpani = 7\n",
    "    \n",
    "    def __init__(self,yas=5):\n",
    "        self.yas = yas\n",
    "        self.insanYasinaCevrilmisAttribute = yas * 7\n",
    "\n",
    "    def insanYasiniHesapla(self):\n",
    "        return self.yas * self.yilCarpani"
   ]
  },
  {
   "cell_type": "code",
   "execution_count": 104,
   "id": "c328b061-4a58-45d1-add6-1c564c67a723",
   "metadata": {},
   "outputs": [],
   "source": [
    "benimKopek = Kopek()"
   ]
  },
  {
   "cell_type": "code",
   "execution_count": 106,
   "id": "7c33afa4-ff16-4932-a3b6-01e89b7fead3",
   "metadata": {},
   "outputs": [
    {
     "data": {
      "text/plain": [
       "5"
      ]
     },
     "execution_count": 106,
     "metadata": {},
     "output_type": "execute_result"
    }
   ],
   "source": [
    "benimKopek.yas"
   ]
  },
  {
   "cell_type": "code",
   "execution_count": 108,
   "id": "86d1426c-9958-4d08-bcbe-ffae946da816",
   "metadata": {},
   "outputs": [
    {
     "data": {
      "text/plain": [
       "35"
      ]
     },
     "execution_count": 108,
     "metadata": {},
     "output_type": "execute_result"
    }
   ],
   "source": [
    "benimKopek.insanYasiniHesapla()"
   ]
  },
  {
   "cell_type": "code",
   "execution_count": 112,
   "id": "af017fcc-08f4-47d7-b09a-5c22db726839",
   "metadata": {},
   "outputs": [
    {
     "data": {
      "text/plain": [
       "35"
      ]
     },
     "execution_count": 112,
     "metadata": {},
     "output_type": "execute_result"
    }
   ],
   "source": [
    "benimKopek.insanYasinaCevrilmisAttribute"
   ]
  },
  {
   "cell_type": "markdown",
   "id": "4c0a71e6-6d27-419c-80a2-89798e70bc7c",
   "metadata": {},
   "source": [
    "## inheritance"
   ]
  },
  {
   "cell_type": "code",
   "execution_count": 115,
   "id": "65973d8e-5f80-4f93-90a7-ecf6176c5bd4",
   "metadata": {},
   "outputs": [],
   "source": [
    "class Hayvan():\n",
    "    def __init__(self):\n",
    "        print(\"hayvan sınıfı çağrıldı\")\n",
    "\n",
    "    def method1(self):\n",
    "        print(\"hayvan sınıfı method1 çağrıldı\")\n",
    "\n",
    "    def method2(self):\n",
    "        print(\"hayvan sınıfı method2 çağrıldı\")"
   ]
  },
  {
   "cell_type": "code",
   "execution_count": 119,
   "id": "02ab97b8-962f-44fd-8dcd-1bb23c8aec17",
   "metadata": {},
   "outputs": [
    {
     "name": "stdout",
     "output_type": "stream",
     "text": [
      "hayvan sınıfı çağrıldı\n"
     ]
    }
   ],
   "source": [
    "benimHayvanim = Hayvan()"
   ]
  },
  {
   "cell_type": "code",
   "execution_count": 121,
   "id": "46c59fd1-c496-47b8-b90c-1a75cb859f6f",
   "metadata": {},
   "outputs": [
    {
     "name": "stdout",
     "output_type": "stream",
     "text": [
      "hayvan sınıfı method1 çağrıldı\n"
     ]
    }
   ],
   "source": [
    "benimHayvanim.method1()"
   ]
  },
  {
   "cell_type": "code",
   "execution_count": 123,
   "id": "4e79144c-0485-4970-a05b-2f84c84061c2",
   "metadata": {},
   "outputs": [
    {
     "name": "stdout",
     "output_type": "stream",
     "text": [
      "hayvan sınıfı method2 çağrıldı\n"
     ]
    }
   ],
   "source": [
    "benimHayvanim.method2()"
   ]
  },
  {
   "cell_type": "code",
   "execution_count": 145,
   "id": "2ef650c9-6023-495f-b82b-bc331ce97876",
   "metadata": {},
   "outputs": [],
   "source": [
    "class Kedi(Hayvan):\n",
    "    def __init__(self):\n",
    "        Hayvan.__init__(self)\n",
    "        print(\"kedi sınıfı init çağrıldı\")\n",
    "\n",
    "    def miyavla(self):\n",
    "        print(\"miyav\")\n",
    "\n",
    "    #override\n",
    "    def method1(self):\n",
    "        print(\"kedi sınıfındaki method1 çağrıldı\")"
   ]
  },
  {
   "cell_type": "code",
   "execution_count": 147,
   "id": "fe9c7f67-7d58-44de-a1cd-122a1bb6fabb",
   "metadata": {},
   "outputs": [
    {
     "name": "stdout",
     "output_type": "stream",
     "text": [
      "hayvan sınıfı çağrıldı\n",
      "kedi sınıfı init çağrıldı\n"
     ]
    }
   ],
   "source": [
    "benimKedi = Kedi()"
   ]
  },
  {
   "cell_type": "code",
   "execution_count": 149,
   "id": "2a5e2acf-c0df-40bc-a454-bc7fa438241e",
   "metadata": {},
   "outputs": [
    {
     "name": "stdout",
     "output_type": "stream",
     "text": [
      "kedi sınıfındaki method1 çağrıldı\n"
     ]
    }
   ],
   "source": [
    "benimKedi.method1()"
   ]
  },
  {
   "cell_type": "code",
   "execution_count": 151,
   "id": "5c1a0200-020a-482a-9dfd-a44b1f84514c",
   "metadata": {},
   "outputs": [
    {
     "name": "stdout",
     "output_type": "stream",
     "text": [
      "miyav\n"
     ]
    }
   ],
   "source": [
    "benimKedi.miyavla()"
   ]
  },
  {
   "cell_type": "code",
   "execution_count": 153,
   "id": "1b0f7e57-c585-4a29-893d-9d0a6c7d8989",
   "metadata": {},
   "outputs": [
    {
     "name": "stdout",
     "output_type": "stream",
     "text": [
      "hayvan sınıfı çağrıldı\n"
     ]
    }
   ],
   "source": [
    "digerHayvan = Hayvan()"
   ]
  },
  {
   "cell_type": "code",
   "execution_count": 155,
   "id": "b4e4ef19-eb76-4e55-9f16-62018d36f962",
   "metadata": {},
   "outputs": [
    {
     "name": "stdout",
     "output_type": "stream",
     "text": [
      "hayvan sınıfı method1 çağrıldı\n"
     ]
    }
   ],
   "source": [
    "digerHayvan.method1()"
   ]
  },
  {
   "cell_type": "code",
   "execution_count": 157,
   "id": "4a28b123-8c17-423f-9cfe-a5e073f3eecb",
   "metadata": {},
   "outputs": [
    {
     "name": "stdout",
     "output_type": "stream",
     "text": [
      "hayvan sınıfı çağrıldı\n",
      "kedi sınıfı init çağrıldı\n"
     ]
    }
   ],
   "source": [
    "digerKedi = Kedi()"
   ]
  },
  {
   "cell_type": "code",
   "execution_count": 159,
   "id": "b2d72c49-263f-4685-bc57-778ad1857e51",
   "metadata": {},
   "outputs": [
    {
     "name": "stdout",
     "output_type": "stream",
     "text": [
      "kedi sınıfındaki method1 çağrıldı\n"
     ]
    }
   ],
   "source": [
    "digerKedi.method1()"
   ]
  },
  {
   "cell_type": "markdown",
   "id": "fcf36270-4e48-499d-ab0c-d78d46be8e40",
   "metadata": {},
   "source": [
    "## Polymorphisim"
   ]
  },
  {
   "cell_type": "code",
   "execution_count": 170,
   "id": "5166762e-a55e-428c-8b96-0cc97a3e2284",
   "metadata": {},
   "outputs": [],
   "source": [
    "class Elma():\n",
    "    def __init__(self,isim):\n",
    "        self.isim = isim\n",
    "\n",
    "    def bilgiVer(self):\n",
    "        return self.isim + \" 100 kaloridir \""
   ]
  },
  {
   "cell_type": "code",
   "execution_count": 186,
   "id": "cd4c1107-2c42-463d-9a18-3cf9fee88aa1",
   "metadata": {},
   "outputs": [],
   "source": [
    "class Muz():\n",
    "    def __init__(self,isim):\n",
    "        self.isim = isim\n",
    "\n",
    "    def bilgiVer(self):\n",
    "        return self.isim + \" 150 kaloridir. \""
   ]
  },
  {
   "cell_type": "code",
   "execution_count": 188,
   "id": "f1b22cd3-7041-4fb7-95ef-9710f14cc622",
   "metadata": {},
   "outputs": [],
   "source": [
    "elma = Elma(\"elma\")"
   ]
  },
  {
   "cell_type": "code",
   "execution_count": 190,
   "id": "e4d6d680-f0dd-43d0-b2f0-9127b613f79e",
   "metadata": {},
   "outputs": [
    {
     "data": {
      "text/plain": [
       "'elma 100 kaloridir '"
      ]
     },
     "execution_count": 190,
     "metadata": {},
     "output_type": "execute_result"
    }
   ],
   "source": [
    "elma.bilgiVer()"
   ]
  },
  {
   "cell_type": "code",
   "execution_count": 192,
   "id": "97c750ca-28c5-49ae-a755-f4d244a757da",
   "metadata": {},
   "outputs": [],
   "source": [
    "muz = Muz(\"muz\")"
   ]
  },
  {
   "cell_type": "code",
   "execution_count": 194,
   "id": "18428036-698d-4b63-b610-ec7a143b10bc",
   "metadata": {},
   "outputs": [
    {
     "data": {
      "text/plain": [
       "'muz 150 kaloridir. '"
      ]
     },
     "execution_count": 194,
     "metadata": {},
     "output_type": "execute_result"
    }
   ],
   "source": [
    "muz.bilgiVer()"
   ]
  },
  {
   "cell_type": "code",
   "execution_count": 196,
   "id": "bca5a808-f718-4aa6-b2fc-26b7ce6f562d",
   "metadata": {},
   "outputs": [],
   "source": [
    "meyveListesi = [elma,muz]"
   ]
  },
  {
   "cell_type": "code",
   "execution_count": 198,
   "id": "16a101af-547f-45d5-ad61-0c64de0f977c",
   "metadata": {},
   "outputs": [
    {
     "name": "stdout",
     "output_type": "stream",
     "text": [
      "elma 100 kaloridir \n",
      "muz 150 kaloridir. \n"
     ]
    }
   ],
   "source": [
    "for meyve in meyveListesi:\n",
    "    print(meyve.bilgiVer())"
   ]
  },
  {
   "cell_type": "code",
   "execution_count": 200,
   "id": "df5a39d4-b405-4355-911b-072f15d1980e",
   "metadata": {},
   "outputs": [],
   "source": [
    "def bilgiAl(meyve):\n",
    "    print(meyve.bilgiVer())"
   ]
  },
  {
   "cell_type": "code",
   "execution_count": 202,
   "id": "1a6c0019-1df5-49e1-9bb9-47b882fd6c81",
   "metadata": {},
   "outputs": [
    {
     "name": "stdout",
     "output_type": "stream",
     "text": [
      "muz 150 kaloridir. \n"
     ]
    }
   ],
   "source": [
    "bilgiAl(muz)"
   ]
  },
  {
   "cell_type": "code",
   "execution_count": 204,
   "id": "4ed04c22-3a4c-436c-8bf8-06e60a4f2aa0",
   "metadata": {},
   "outputs": [
    {
     "name": "stdout",
     "output_type": "stream",
     "text": [
      "elma 100 kaloridir \n"
     ]
    }
   ],
   "source": [
    "bilgiAl(elma)"
   ]
  },
  {
   "cell_type": "code",
   "execution_count": null,
   "id": "a422a71e-33af-493b-abf7-8b6f764d83ae",
   "metadata": {},
   "outputs": [],
   "source": []
  }
 ],
 "metadata": {
  "kernelspec": {
   "display_name": "Python 3 (ipykernel)",
   "language": "python",
   "name": "python3"
  },
  "language_info": {
   "codemirror_mode": {
    "name": "ipython",
    "version": 3
   },
   "file_extension": ".py",
   "mimetype": "text/x-python",
   "name": "python",
   "nbconvert_exporter": "python",
   "pygments_lexer": "ipython3",
   "version": "3.12.7"
  }
 },
 "nbformat": 4,
 "nbformat_minor": 5
}
